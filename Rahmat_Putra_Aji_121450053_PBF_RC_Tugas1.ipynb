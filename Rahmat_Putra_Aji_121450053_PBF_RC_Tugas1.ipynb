{
  "cells": [
    {
      "cell_type": "markdown",
      "metadata": {
        "id": "uSOC4Absd5PQ"
      },
      "source": [
        "**1. Jelaskan menggunakan tabel mengenai kelebihan dan kekurangan paradigma procedural dibandingkan dengan object oriented (minimal 3) !**"
      ]
    },
    {
      "cell_type": "markdown",
      "metadata": {
        "id": "7h30HbNDd5Pa"
      },
      "source": [
        "|Paradigma procuderal|  |Paradigma Object Oriented| \n",
        "| -------------------|  |-------------------------|\n",
        "|data memiliki sifat yang pasif|   |objek bersifat aktif| \n",
        "|penyelesaian dalam bentuk prosedur atau fungsi|   |penyelesaian bekerjasama dengan objek-objeknya|\n",
        "|program terbagi yang disebut dengan fungsi|   |program terbagi yang disebut objek|\n",
        "|fungsi dan prosedur menjadi fokus utama|   |funsi dana data menjadi satu (bukan dua hal terpisah)| "
      ]
    },
    {
      "cell_type": "markdown",
      "metadata": {
        "id": "ic5Xa_eXd5Pd"
      },
      "source": [
        "**2. Jelaskan menggunakan tabel mengenai kelebihan dan kekurangan\n",
        "paradigma object oriented dibandingkan dengan functional (minimal 3) !**"
      ]
    },
    {
      "cell_type": "markdown",
      "source": [
        "|Paradigma Fungsional|  |Paradigma Object Oriented| \n",
        "| -------------------|  |-------------------------|\n",
        "|membuat program menjadi lebih modular|   |memudahkan manajemen kode karena gaya coding modular| \n",
        "|sulit digunakan bagi pemula|   |membuat pengolahan data yang mudah dipahami dikarenakan sama dengan objek real-word|\n",
        "|membantu proses debug menjadi lebih cepat|   |potensi besar melakukan generalisasi yang berlebihan|\n"
      ],
      "metadata": {
        "id": "6OWGZuGXemSF"
      }
    },
    {
      "cell_type": "markdown",
      "metadata": {
        "id": "Fi0Oqu7Kd5Pj"
      },
      "source": [
        "**3. Jelaskan menggunakan tabel mengenai kelebihan dan kekurangan\n",
        "paradigma procedural dibandingkan dengan functional (minimal 3) !**"
      ]
    },
    {
      "cell_type": "markdown",
      "source": [
        "|Paradigma procedural|  |Paradigma fungsional| \n",
        "| -------------------|  |-------------------------|\n",
        "|kode bisa tidak readable dalam permasalahan kompleks|   |ketika sistem yang ada sudah kompleks menjadi tidak readable| \n",
        "|pengeimplementasian algoritma lebih mudah|   |agak sulit dalam pengimplementasian|\n",
        "|flow step by step akan mudah dibaca|   |function menjadi lebih reusable|\n"
      ],
      "metadata": {
        "id": "fqr1QzNbfXUN"
      }
    },
    {
      "cell_type": "markdown",
      "metadata": {
        "id": "1YtJfV0fd5Pp"
      },
      "source": [
        "**4. Apa yang dimaksud dengan pure functional programming language?**"
      ]
    },
    {
      "cell_type": "markdown",
      "metadata": {
        "id": "o0lzWK1pd5Pr"
      },
      "source": [
        "Pure dunctional programming language atau disebut juga dengan fungsi pemrograman murni berbededa dengan pemrograman fungsisonal biasa yang mana dalam fungsi pemrograman murni hanyalah bahasa diamana suatu fungsi tidak dapat menagamati hal-hal selain inputnya."
      ]
    },
    {
      "cell_type": "markdown",
      "metadata": {
        "id": "9NsJyirbd5Ps"
      },
      "source": [
        "**5. Dari bahasa pemrograman FP di slide sebelumnya ( slide 14 ) , manakah\n",
        "yang termasuk pure functional programming language?**"
      ]
    },
    {
      "cell_type": "markdown",
      "metadata": {
        "id": "g9yoE7kVd5Pu"
      },
      "source": [
        "yang termasuk pure functional programming language yaitu HASKELL LISP, SCALA, JAVASCRIPT dan PYTHON"
      ]
    },
    {
      "cell_type": "markdown",
      "metadata": {
        "id": "4mqC5vKPd5Pw"
      },
      "source": [
        "**6. Membuat program Simple Password encryption, dengan ketentuan**\n",
        "\n",
        "*1. Input password bertipe string dengan batasan panjang password\n",
        "100 karakter*\n",
        "\n",
        "*2. Setiap karakter dari string tersebut diubah menjadi ASCII value*\n",
        "\n",
        "*3. Kemudian setiap ASCII value tersebut dikembangkan menjadi 3\n",
        "value dengan dilakukan operasi berikut:*\n",
        "1. Value pertama dibagi dengan integer 26 kemudian\n",
        "dibulatkan dan dijumlahkan dengan 80 kemudian diubah\n",
        "kembali menjadi karakter\n",
        "2. Value kedua dihitung sisa bagi dengan 26 kemudian\n",
        "dijumlahkan dengan 80 kemudian diubah kembali menjadi\n",
        "karakter\n",
        "3. Value ketiga adalah karakter ‘+’ jika value pertama lebih\n",
        "besar dari value kedua, atau value ketiga adalah karakter ‘-’\n",
        "jika value pertama tidak lebih besar dari value kedua\n",
        "\n",
        "*4. Deretkan value pertama, kedua dan ketiga untuk setiap karakter\n",
        "dalam password tersebut sehingga didapatkan password dalam\n",
        "bentuk baru*"
      ]
    },
    {
      "cell_type": "code",
      "execution_count": null,
      "metadata": {
        "trusted": true,
        "vscode": {
          "languageId": "python"
        },
        "id": "rMXKxD86d5Py"
      },
      "outputs": [],
      "source": [
        "from cryptography.fernet import Fernet\n",
        " quote = \"rahmat putra aji\"\n",
        " key_mine = Fernet.generate_key()\n",
        " fernet = Fernet(key_mine)\n",
        " encText = fernet.encrypt(quote.encode())\n",
        "print(\"Password : \", quote)\n",
        "print(\"My encrypted string: \", encText)"
      ]
    },
    {
      "cell_type": "code",
      "execution_count": 1,
      "metadata": {
        "vscode": {
          "languageId": "python"
        },
        "id": "qixZXWdld5Pz"
      },
      "outputs": [],
      "source": [
        "from functools import reduce"
      ]
    },
    {
      "cell_type": "code",
      "execution_count": 2,
      "metadata": {
        "vscode": {
          "languageId": "python"
        },
        "id": "p2UO4OT4d5P0"
      },
      "outputs": [],
      "source": [
        "def caesar_encrypt(password):\n",
        "  ascii_values = [ord(char) for char in password]\n",
        "  encrypt_values = [(chr((value//26)+80), chr(value%26+80), '+' if value//26 > value%26 else '-') for value in ascii_values]\n",
        "  encrypted_password = reduce(lambda acc, val: acc+val[0]+val[1]+val[2], encrypt_values, '')\n",
        "  return encrypted_password"
      ]
    },
    {
      "cell_type": "code",
      "execution_count": 3,
      "metadata": {
        "vscode": {
          "languageId": "python"
        },
        "colab": {
          "base_uri": "https://localhost:8080/"
        },
        "id": "YsQGyH8Hd5P1",
        "outputId": "15999bce-8c09-4c77-e403-edc222e4388a"
      },
      "outputs": [
        {
          "name": "stdout",
          "output_type": "stream",
          "text": [
            "Input your password below :) : Rahmat putra aji\n"
          ]
        }
      ],
      "source": [
        "password = input (\"Input your password below :) : \")"
      ]
    },
    {
      "cell_type": "code",
      "execution_count": 4,
      "metadata": {
        "vscode": {
          "languageId": "python"
        },
        "id": "bb9Ta5kNd5P3"
      },
      "outputs": [],
      "source": [
        "encrypted_password = caesar_encrypt(password)"
      ]
    },
    {
      "cell_type": "code",
      "execution_count": 5,
      "metadata": {
        "vscode": {
          "languageId": "python"
        },
        "colab": {
          "base_uri": "https://localhost:8080/"
        },
        "id": "fXBXCWLdd5P4",
        "outputId": "a7147ac9-61c4-4fa2-eaef-0050120aa246"
      },
      "outputs": [
        {
          "output_type": "stream",
          "name": "stdout",
          "text": [
            "Password: Rahmat putra aji\n"
          ]
        }
      ],
      "source": [
        "print(\"Password:\", password)"
      ]
    },
    {
      "cell_type": "code",
      "execution_count": 6,
      "metadata": {
        "vscode": {
          "languageId": "python"
        },
        "colab": {
          "base_uri": "https://localhost:8080/"
        },
        "id": "xQykzmtEd5P5",
        "outputId": "323e71e0-ea05-41b0-acf8-0bf9fbbbead6"
      },
      "outputs": [
        {
          "output_type": "stream",
          "name": "stdout",
          "text": [
            "Password Terenkripsi: ST-Sc-TP+TU-Sc-T\\-QV-TX-T]-T\\-TZ-Sc-QV-Sc-TR+TQ+\n"
          ]
        }
      ],
      "source": [
        "print(\"Password Terenkripsi:\", encrypted_password)"
      ]
    }
  ],
  "metadata": {
    "kernelspec": {
      "display_name": "Python (Pyodide)",
      "language": "python",
      "name": "python"
    },
    "language_info": {
      "name": ""
    },
    "colab": {
      "provenance": []
    }
  },
  "nbformat": 4,
  "nbformat_minor": 0
}